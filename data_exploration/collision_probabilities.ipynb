{
 "cells": [
  {
   "cell_type": "code",
   "execution_count": 1,
   "metadata": {
    "collapsed": true
   },
   "outputs": [],
   "source": [
    "import numpy as np\n",
    "import pandas as pd\n",
    "import scipy as sp\n",
    "import scipy.stats as stats\n",
    "from pandas import DataFrame, Series\n",
    "from math import isnan\n",
    "import matplotlib.pyplot as plt\n",
    "import matplotlib\n",
    "import datetime\n",
    "# Numpy options\n",
    "np.random.seed(78)\n",
    "# Pandas options\n",
    "pd.set_option(\"display.max_rows\", 100)\n",
    "pd.set_option(\"display.max_columns\", 400)\n",
    "# Matplotlib options\n",
    "matplotlib.rcParams['image.cmap'] = 'viridis'\n",
    "%matplotlib inline\n",
    "matplotlib.style.use('ggplot')\n",
    "matplotlib.rcParams['figure.figsize'] = (20,10)"
   ]
  },
  {
   "cell_type": "code",
   "execution_count": 48,
   "metadata": {
    "collapsed": false
   },
   "outputs": [],
   "source": [
    "df = pd.read_csv(\"collisions_cleaned.csv\", low_memory=False)"
   ]
  },
  {
   "cell_type": "code",
   "execution_count": 99,
   "metadata": {
    "collapsed": false
   },
   "outputs": [
    {
     "data": {
      "text/html": [
       "<div>\n",
       "<table border=\"1\" class=\"dataframe\">\n",
       "  <thead>\n",
       "    <tr style=\"text-align: right;\">\n",
       "      <th></th>\n",
       "      <th>DATE</th>\n",
       "      <th>TIME</th>\n",
       "      <th>BOROUGH</th>\n",
       "      <th>ZIP CODE</th>\n",
       "      <th>LATITUDE</th>\n",
       "      <th>LONGITUDE</th>\n",
       "      <th>LOCATION</th>\n",
       "      <th>ON STREET NAME</th>\n",
       "      <th>CROSS STREET NAME</th>\n",
       "      <th>OFF STREET NAME</th>\n",
       "      <th>NUMBER OF PERSONS INJURED</th>\n",
       "      <th>NUMBER OF PERSONS KILLED</th>\n",
       "      <th>NUMBER OF PEDESTRIANS INJURED</th>\n",
       "      <th>NUMBER OF PEDESTRIANS KILLED</th>\n",
       "      <th>NUMBER OF CYCLIST INJURED</th>\n",
       "      <th>NUMBER OF CYCLIST KILLED</th>\n",
       "      <th>NUMBER OF MOTORIST INJURED</th>\n",
       "      <th>NUMBER OF MOTORIST KILLED</th>\n",
       "      <th>CONTRIBUTING FACTOR VEHICLE 1</th>\n",
       "      <th>CONTRIBUTING FACTOR VEHICLE 2</th>\n",
       "      <th>CONTRIBUTING FACTOR VEHICLE 3</th>\n",
       "      <th>CONTRIBUTING FACTOR VEHICLE 4</th>\n",
       "      <th>CONTRIBUTING FACTOR VEHICLE 5</th>\n",
       "      <th>UNIQUE KEY</th>\n",
       "      <th>VEHICLE TYPE CODE 1</th>\n",
       "      <th>VEHICLE TYPE CODE 2</th>\n",
       "      <th>VEHICLE TYPE CODE 3</th>\n",
       "      <th>VEHICLE TYPE CODE 4</th>\n",
       "      <th>VEHICLE TYPE CODE 5</th>\n",
       "      <th>Counts</th>\n",
       "      <th>Collision Rate</th>\n",
       "      <th>LAT</th>\n",
       "      <th>LONG</th>\n",
       "    </tr>\n",
       "  </thead>\n",
       "  <tbody>\n",
       "    <tr>\n",
       "      <th>0</th>\n",
       "      <td>03/24/2017</td>\n",
       "      <td>0:00</td>\n",
       "      <td>BRONX</td>\n",
       "      <td>10458.0</td>\n",
       "      <td>40.866047</td>\n",
       "      <td>-73.882744</td>\n",
       "      <td>(40.866047,-73.882744)</td>\n",
       "      <td>SOUTHERN BOULEVARD</td>\n",
       "      <td>BEDFORD PARK BOULEVARD</td>\n",
       "      <td>NaN</td>\n",
       "      <td>0</td>\n",
       "      <td>0</td>\n",
       "      <td>0</td>\n",
       "      <td>0</td>\n",
       "      <td>0</td>\n",
       "      <td>0</td>\n",
       "      <td>0</td>\n",
       "      <td>0</td>\n",
       "      <td>Driver Inattention/Distraction</td>\n",
       "      <td>Driver Inexperience</td>\n",
       "      <td>NaN</td>\n",
       "      <td>NaN</td>\n",
       "      <td>NaN</td>\n",
       "      <td>3638739</td>\n",
       "      <td>SPORT UTILITY / STATION WAGON</td>\n",
       "      <td>SPORT UTILITY / STATION WAGON</td>\n",
       "      <td>NaN</td>\n",
       "      <td>NaN</td>\n",
       "      <td>NaN</td>\n",
       "      <td>17614.0</td>\n",
       "      <td>0.093326</td>\n",
       "      <td>40.87</td>\n",
       "      <td>-73.88</td>\n",
       "    </tr>\n",
       "    <tr>\n",
       "      <th>1</th>\n",
       "      <td>03/24/2017</td>\n",
       "      <td>0:00</td>\n",
       "      <td>BROOKLYN</td>\n",
       "      <td>11220.0</td>\n",
       "      <td>40.633470</td>\n",
       "      <td>-74.021020</td>\n",
       "      <td>(40.63347,-74.02102)</td>\n",
       "      <td>BAY RIDGE AVENUE</td>\n",
       "      <td>5 AVENUE</td>\n",
       "      <td>NaN</td>\n",
       "      <td>0</td>\n",
       "      <td>0</td>\n",
       "      <td>0</td>\n",
       "      <td>0</td>\n",
       "      <td>0</td>\n",
       "      <td>0</td>\n",
       "      <td>0</td>\n",
       "      <td>0</td>\n",
       "      <td>Driver Inattention/Distraction</td>\n",
       "      <td>Unspecified</td>\n",
       "      <td>NaN</td>\n",
       "      <td>NaN</td>\n",
       "      <td>NaN</td>\n",
       "      <td>3638505</td>\n",
       "      <td>PASSENGER VEHICLE</td>\n",
       "      <td>PICK-UP TRUCK</td>\n",
       "      <td>NaN</td>\n",
       "      <td>NaN</td>\n",
       "      <td>NaN</td>\n",
       "      <td>3659.0</td>\n",
       "      <td>0.149753</td>\n",
       "      <td>40.63</td>\n",
       "      <td>-74.02</td>\n",
       "    </tr>\n",
       "    <tr>\n",
       "      <th>2</th>\n",
       "      <td>03/24/2017</td>\n",
       "      <td>0:00</td>\n",
       "      <td>BROOKLYN</td>\n",
       "      <td>11222.0</td>\n",
       "      <td>40.728416</td>\n",
       "      <td>-73.952415</td>\n",
       "      <td>(40.728416,-73.952415)</td>\n",
       "      <td>CALYER STREET</td>\n",
       "      <td>LEONARD STREET</td>\n",
       "      <td>NaN</td>\n",
       "      <td>0</td>\n",
       "      <td>0</td>\n",
       "      <td>0</td>\n",
       "      <td>0</td>\n",
       "      <td>0</td>\n",
       "      <td>0</td>\n",
       "      <td>0</td>\n",
       "      <td>0</td>\n",
       "      <td>Failure to Yield Right-of-Way</td>\n",
       "      <td>Unspecified</td>\n",
       "      <td>NaN</td>\n",
       "      <td>NaN</td>\n",
       "      <td>NaN</td>\n",
       "      <td>3638289</td>\n",
       "      <td>PASSENGER VEHICLE</td>\n",
       "      <td>PASSENGER VEHICLE</td>\n",
       "      <td>NaN</td>\n",
       "      <td>NaN</td>\n",
       "      <td>NaN</td>\n",
       "      <td>33440.0</td>\n",
       "      <td>0.016386</td>\n",
       "      <td>40.73</td>\n",
       "      <td>-73.95</td>\n",
       "    </tr>\n",
       "    <tr>\n",
       "      <th>3</th>\n",
       "      <td>03/24/2017</td>\n",
       "      <td>0:00</td>\n",
       "      <td>QUEENS</td>\n",
       "      <td>11104.0</td>\n",
       "      <td>40.748928</td>\n",
       "      <td>-73.913750</td>\n",
       "      <td>(40.748928,-73.91375)</td>\n",
       "      <td>50 STREET</td>\n",
       "      <td>39 AVENUE</td>\n",
       "      <td>NaN</td>\n",
       "      <td>0</td>\n",
       "      <td>0</td>\n",
       "      <td>0</td>\n",
       "      <td>0</td>\n",
       "      <td>0</td>\n",
       "      <td>0</td>\n",
       "      <td>0</td>\n",
       "      <td>0</td>\n",
       "      <td>Driver Inattention/Distraction</td>\n",
       "      <td>Unspecified</td>\n",
       "      <td>NaN</td>\n",
       "      <td>NaN</td>\n",
       "      <td>NaN</td>\n",
       "      <td>3638133</td>\n",
       "      <td>SPORT UTILITY / STATION WAGON</td>\n",
       "      <td>NaN</td>\n",
       "      <td>NaN</td>\n",
       "      <td>NaN</td>\n",
       "      <td>NaN</td>\n",
       "      <td>6428.0</td>\n",
       "      <td>0.255730</td>\n",
       "      <td>40.75</td>\n",
       "      <td>-73.91</td>\n",
       "    </tr>\n",
       "    <tr>\n",
       "      <th>4</th>\n",
       "      <td>03/24/2017</td>\n",
       "      <td>0:00</td>\n",
       "      <td>QUEENS</td>\n",
       "      <td>11354.0</td>\n",
       "      <td>40.766445</td>\n",
       "      <td>-73.834040</td>\n",
       "      <td>(40.766445,-73.83404)</td>\n",
       "      <td>33 AVENUE</td>\n",
       "      <td>MILLER STREET</td>\n",
       "      <td>NaN</td>\n",
       "      <td>0</td>\n",
       "      <td>0</td>\n",
       "      <td>0</td>\n",
       "      <td>0</td>\n",
       "      <td>0</td>\n",
       "      <td>0</td>\n",
       "      <td>0</td>\n",
       "      <td>0</td>\n",
       "      <td>Unspecified</td>\n",
       "      <td>NaN</td>\n",
       "      <td>NaN</td>\n",
       "      <td>NaN</td>\n",
       "      <td>NaN</td>\n",
       "      <td>3638189</td>\n",
       "      <td>SPORT UTILITY / STATION WAGON</td>\n",
       "      <td>NaN</td>\n",
       "      <td>NaN</td>\n",
       "      <td>NaN</td>\n",
       "      <td>NaN</td>\n",
       "      <td>5054.0</td>\n",
       "      <td>0.108418</td>\n",
       "      <td>40.77</td>\n",
       "      <td>-73.83</td>\n",
       "    </tr>\n",
       "  </tbody>\n",
       "</table>\n",
       "</div>"
      ],
      "text/plain": [
       "         DATE  TIME   BOROUGH ZIP CODE   LATITUDE  LONGITUDE  \\\n",
       "0  03/24/2017  0:00     BRONX  10458.0  40.866047 -73.882744   \n",
       "1  03/24/2017  0:00  BROOKLYN  11220.0  40.633470 -74.021020   \n",
       "2  03/24/2017  0:00  BROOKLYN  11222.0  40.728416 -73.952415   \n",
       "3  03/24/2017  0:00    QUEENS  11104.0  40.748928 -73.913750   \n",
       "4  03/24/2017  0:00    QUEENS  11354.0  40.766445 -73.834040   \n",
       "\n",
       "                 LOCATION                    ON STREET NAME  \\\n",
       "0  (40.866047,-73.882744)  SOUTHERN BOULEVARD                 \n",
       "1    (40.63347,-74.02102)  BAY RIDGE AVENUE                   \n",
       "2  (40.728416,-73.952415)  CALYER STREET                      \n",
       "3   (40.748928,-73.91375)  50 STREET                          \n",
       "4   (40.766445,-73.83404)  33 AVENUE                          \n",
       "\n",
       "        CROSS STREET NAME OFF STREET NAME  NUMBER OF PERSONS INJURED  \\\n",
       "0  BEDFORD PARK BOULEVARD             NaN                          0   \n",
       "1                5 AVENUE             NaN                          0   \n",
       "2          LEONARD STREET             NaN                          0   \n",
       "3               39 AVENUE             NaN                          0   \n",
       "4           MILLER STREET             NaN                          0   \n",
       "\n",
       "   NUMBER OF PERSONS KILLED  NUMBER OF PEDESTRIANS INJURED  \\\n",
       "0                         0                              0   \n",
       "1                         0                              0   \n",
       "2                         0                              0   \n",
       "3                         0                              0   \n",
       "4                         0                              0   \n",
       "\n",
       "   NUMBER OF PEDESTRIANS KILLED  NUMBER OF CYCLIST INJURED  \\\n",
       "0                             0                          0   \n",
       "1                             0                          0   \n",
       "2                             0                          0   \n",
       "3                             0                          0   \n",
       "4                             0                          0   \n",
       "\n",
       "   NUMBER OF CYCLIST KILLED  NUMBER OF MOTORIST INJURED  \\\n",
       "0                         0                           0   \n",
       "1                         0                           0   \n",
       "2                         0                           0   \n",
       "3                         0                           0   \n",
       "4                         0                           0   \n",
       "\n",
       "   NUMBER OF MOTORIST KILLED   CONTRIBUTING FACTOR VEHICLE 1  \\\n",
       "0                          0  Driver Inattention/Distraction   \n",
       "1                          0  Driver Inattention/Distraction   \n",
       "2                          0   Failure to Yield Right-of-Way   \n",
       "3                          0  Driver Inattention/Distraction   \n",
       "4                          0                     Unspecified   \n",
       "\n",
       "  CONTRIBUTING FACTOR VEHICLE 2 CONTRIBUTING FACTOR VEHICLE 3  \\\n",
       "0           Driver Inexperience                           NaN   \n",
       "1                   Unspecified                           NaN   \n",
       "2                   Unspecified                           NaN   \n",
       "3                   Unspecified                           NaN   \n",
       "4                           NaN                           NaN   \n",
       "\n",
       "  CONTRIBUTING FACTOR VEHICLE 4 CONTRIBUTING FACTOR VEHICLE 5  UNIQUE KEY  \\\n",
       "0                           NaN                           NaN     3638739   \n",
       "1                           NaN                           NaN     3638505   \n",
       "2                           NaN                           NaN     3638289   \n",
       "3                           NaN                           NaN     3638133   \n",
       "4                           NaN                           NaN     3638189   \n",
       "\n",
       "             VEHICLE TYPE CODE 1            VEHICLE TYPE CODE 2  \\\n",
       "0  SPORT UTILITY / STATION WAGON  SPORT UTILITY / STATION WAGON   \n",
       "1              PASSENGER VEHICLE                  PICK-UP TRUCK   \n",
       "2              PASSENGER VEHICLE              PASSENGER VEHICLE   \n",
       "3  SPORT UTILITY / STATION WAGON                            NaN   \n",
       "4  SPORT UTILITY / STATION WAGON                            NaN   \n",
       "\n",
       "  VEHICLE TYPE CODE 3 VEHICLE TYPE CODE 4 VEHICLE TYPE CODE 5   Counts  \\\n",
       "0                 NaN                 NaN                 NaN  17614.0   \n",
       "1                 NaN                 NaN                 NaN   3659.0   \n",
       "2                 NaN                 NaN                 NaN  33440.0   \n",
       "3                 NaN                 NaN                 NaN   6428.0   \n",
       "4                 NaN                 NaN                 NaN   5054.0   \n",
       "\n",
       "   Collision Rate    LAT   LONG  \n",
       "0        0.093326  40.87 -73.88  \n",
       "1        0.149753  40.63 -74.02  \n",
       "2        0.016386  40.73 -73.95  \n",
       "3        0.255730  40.75 -73.91  \n",
       "4        0.108418  40.77 -73.83  "
      ]
     },
     "execution_count": 99,
     "metadata": {},
     "output_type": "execute_result"
    }
   ],
   "source": [
    "df.head()"
   ]
  },
  {
   "cell_type": "code",
   "execution_count": 134,
   "metadata": {
    "collapsed": false
   },
   "outputs": [],
   "source": [
    "even_rush_hour = df[df['TIME'] >= '16:00']\n",
    "even_rush_hour = even_rush_hour[even_rush_hour['TIME'] <= '19:00']\n",
    "morn_rush_hour = df[df['TIME'] >= '07:00']\n",
    "morn_rush_hour = morn_rush_hour[morn_rush_hour['TIME'] <= '09:00']"
   ]
  },
  {
   "cell_type": "code",
   "execution_count": 137,
   "metadata": {
    "collapsed": true
   },
   "outputs": [],
   "source": [
    "rush_hour = df[df['TIME'] >= '16:00']\n",
    "rush_hour = rush_hour[rush_hour['TIME'] <= '19:00']"
   ]
  },
  {
   "cell_type": "code",
   "execution_count": 139,
   "metadata": {
    "collapsed": false
   },
   "outputs": [
    {
     "data": {
      "text/html": [
       "<div>\n",
       "<table border=\"1\" class=\"dataframe\">\n",
       "  <thead>\n",
       "    <tr style=\"text-align: right;\">\n",
       "      <th></th>\n",
       "      <th>DATE</th>\n",
       "      <th>TIME</th>\n",
       "      <th>BOROUGH</th>\n",
       "      <th>ZIP CODE</th>\n",
       "      <th>LATITUDE</th>\n",
       "      <th>LONGITUDE</th>\n",
       "      <th>LOCATION</th>\n",
       "      <th>ON STREET NAME</th>\n",
       "      <th>CROSS STREET NAME</th>\n",
       "      <th>OFF STREET NAME</th>\n",
       "      <th>NUMBER OF PERSONS INJURED</th>\n",
       "      <th>NUMBER OF PERSONS KILLED</th>\n",
       "      <th>NUMBER OF PEDESTRIANS INJURED</th>\n",
       "      <th>NUMBER OF PEDESTRIANS KILLED</th>\n",
       "      <th>NUMBER OF CYCLIST INJURED</th>\n",
       "      <th>NUMBER OF CYCLIST KILLED</th>\n",
       "      <th>NUMBER OF MOTORIST INJURED</th>\n",
       "      <th>NUMBER OF MOTORIST KILLED</th>\n",
       "      <th>CONTRIBUTING FACTOR VEHICLE 1</th>\n",
       "      <th>CONTRIBUTING FACTOR VEHICLE 2</th>\n",
       "      <th>CONTRIBUTING FACTOR VEHICLE 3</th>\n",
       "      <th>CONTRIBUTING FACTOR VEHICLE 4</th>\n",
       "      <th>CONTRIBUTING FACTOR VEHICLE 5</th>\n",
       "      <th>UNIQUE KEY</th>\n",
       "      <th>VEHICLE TYPE CODE 1</th>\n",
       "      <th>VEHICLE TYPE CODE 2</th>\n",
       "      <th>VEHICLE TYPE CODE 3</th>\n",
       "      <th>VEHICLE TYPE CODE 4</th>\n",
       "      <th>VEHICLE TYPE CODE 5</th>\n",
       "      <th>Counts</th>\n",
       "      <th>Collision Rate</th>\n",
       "      <th>LAT</th>\n",
       "      <th>LONG</th>\n",
       "    </tr>\n",
       "  </thead>\n",
       "  <tbody>\n",
       "    <tr>\n",
       "      <th>173</th>\n",
       "      <td>03/24/2017</td>\n",
       "      <td>16:00</td>\n",
       "      <td>BROOKLYN</td>\n",
       "      <td>11230.0</td>\n",
       "      <td>40.627155</td>\n",
       "      <td>-73.96563</td>\n",
       "      <td>(40.627155,-73.96563)</td>\n",
       "      <td>CONEY ISLAND AVENUE</td>\n",
       "      <td>AVENUE I</td>\n",
       "      <td>NaN</td>\n",
       "      <td>0</td>\n",
       "      <td>0</td>\n",
       "      <td>0</td>\n",
       "      <td>0</td>\n",
       "      <td>0</td>\n",
       "      <td>0</td>\n",
       "      <td>0</td>\n",
       "      <td>0</td>\n",
       "      <td>Reaction to Other Uninvolved Vehicle</td>\n",
       "      <td>Unspecified</td>\n",
       "      <td>NaN</td>\n",
       "      <td>NaN</td>\n",
       "      <td>NaN</td>\n",
       "      <td>3638672</td>\n",
       "      <td>SPORT UTILITY / STATION WAGON</td>\n",
       "      <td>PASSENGER VEHICLE</td>\n",
       "      <td>NaN</td>\n",
       "      <td>NaN</td>\n",
       "      <td>NaN</td>\n",
       "      <td>10609.0</td>\n",
       "      <td>0.361544</td>\n",
       "      <td>40.63</td>\n",
       "      <td>-73.97</td>\n",
       "    </tr>\n",
       "    <tr>\n",
       "      <th>174</th>\n",
       "      <td>03/24/2017</td>\n",
       "      <td>16:00</td>\n",
       "      <td>MANHATTAN</td>\n",
       "      <td>10036.0</td>\n",
       "      <td>40.755318</td>\n",
       "      <td>-73.98524</td>\n",
       "      <td>(40.755318,-73.98524)</td>\n",
       "      <td>NaN</td>\n",
       "      <td>NaN</td>\n",
       "      <td>135       WEST 42 STREET</td>\n",
       "      <td>0</td>\n",
       "      <td>0</td>\n",
       "      <td>0</td>\n",
       "      <td>0</td>\n",
       "      <td>0</td>\n",
       "      <td>0</td>\n",
       "      <td>0</td>\n",
       "      <td>0</td>\n",
       "      <td>Unspecified</td>\n",
       "      <td>Unspecified</td>\n",
       "      <td>NaN</td>\n",
       "      <td>NaN</td>\n",
       "      <td>NaN</td>\n",
       "      <td>3639122</td>\n",
       "      <td>TAXI</td>\n",
       "      <td>PASSENGER VEHICLE</td>\n",
       "      <td>NaN</td>\n",
       "      <td>NaN</td>\n",
       "      <td>NaN</td>\n",
       "      <td>10373.0</td>\n",
       "      <td>0.052824</td>\n",
       "      <td>40.76</td>\n",
       "      <td>-73.99</td>\n",
       "    </tr>\n",
       "    <tr>\n",
       "      <th>175</th>\n",
       "      <td>03/24/2017</td>\n",
       "      <td>16:00</td>\n",
       "      <td>QUEENS</td>\n",
       "      <td>11432.0</td>\n",
       "      <td>40.708138</td>\n",
       "      <td>-73.80303</td>\n",
       "      <td>(40.708138,-73.80303)</td>\n",
       "      <td>HIGHLAND AVENUE</td>\n",
       "      <td>PARSONS BOULEVARD</td>\n",
       "      <td>NaN</td>\n",
       "      <td>0</td>\n",
       "      <td>0</td>\n",
       "      <td>0</td>\n",
       "      <td>0</td>\n",
       "      <td>0</td>\n",
       "      <td>0</td>\n",
       "      <td>0</td>\n",
       "      <td>0</td>\n",
       "      <td>Driver Inattention/Distraction</td>\n",
       "      <td>Driver Inattention/Distraction</td>\n",
       "      <td>NaN</td>\n",
       "      <td>NaN</td>\n",
       "      <td>NaN</td>\n",
       "      <td>3638246</td>\n",
       "      <td>SPORT UTILITY / STATION WAGON</td>\n",
       "      <td>SPORT UTILITY / STATION WAGON</td>\n",
       "      <td>NaN</td>\n",
       "      <td>NaN</td>\n",
       "      <td>NaN</td>\n",
       "      <td>7674.0</td>\n",
       "      <td>0.071403</td>\n",
       "      <td>40.71</td>\n",
       "      <td>-73.80</td>\n",
       "    </tr>\n",
       "    <tr>\n",
       "      <th>176</th>\n",
       "      <td>03/24/2017</td>\n",
       "      <td>16:00</td>\n",
       "      <td>BROOKLYN</td>\n",
       "      <td>11214</td>\n",
       "      <td>40.584038</td>\n",
       "      <td>-73.98534</td>\n",
       "      <td>(40.584038,-73.98534)</td>\n",
       "      <td>NaN</td>\n",
       "      <td>NaN</td>\n",
       "      <td>NaN</td>\n",
       "      <td>0</td>\n",
       "      <td>0</td>\n",
       "      <td>0</td>\n",
       "      <td>0</td>\n",
       "      <td>0</td>\n",
       "      <td>0</td>\n",
       "      <td>0</td>\n",
       "      <td>0</td>\n",
       "      <td>Driver Inattention/Distraction</td>\n",
       "      <td>Unspecified</td>\n",
       "      <td>NaN</td>\n",
       "      <td>NaN</td>\n",
       "      <td>NaN</td>\n",
       "      <td>3638747</td>\n",
       "      <td>PICK-UP TRUCK</td>\n",
       "      <td>SPORT UTILITY / STATION WAGON</td>\n",
       "      <td>NaN</td>\n",
       "      <td>NaN</td>\n",
       "      <td>NaN</td>\n",
       "      <td>14431.0</td>\n",
       "      <td>0.037970</td>\n",
       "      <td>40.58</td>\n",
       "      <td>-73.99</td>\n",
       "    </tr>\n",
       "    <tr>\n",
       "      <th>177</th>\n",
       "      <td>03/24/2017</td>\n",
       "      <td>16:00</td>\n",
       "      <td>BRONX</td>\n",
       "      <td>10469</td>\n",
       "      <td>40.856380</td>\n",
       "      <td>-73.83329</td>\n",
       "      <td>(40.85638,-73.83329)</td>\n",
       "      <td>NaN</td>\n",
       "      <td>NaN</td>\n",
       "      <td>NaN</td>\n",
       "      <td>0</td>\n",
       "      <td>0</td>\n",
       "      <td>0</td>\n",
       "      <td>0</td>\n",
       "      <td>0</td>\n",
       "      <td>0</td>\n",
       "      <td>0</td>\n",
       "      <td>0</td>\n",
       "      <td>Following Too Closely</td>\n",
       "      <td>Unspecified</td>\n",
       "      <td>NaN</td>\n",
       "      <td>NaN</td>\n",
       "      <td>NaN</td>\n",
       "      <td>3639106</td>\n",
       "      <td>PICK-UP TRUCK</td>\n",
       "      <td>NaN</td>\n",
       "      <td>NaN</td>\n",
       "      <td>NaN</td>\n",
       "      <td>NaN</td>\n",
       "      <td>411.0</td>\n",
       "      <td>2.666400</td>\n",
       "      <td>40.86</td>\n",
       "      <td>-73.83</td>\n",
       "    </tr>\n",
       "  </tbody>\n",
       "</table>\n",
       "</div>"
      ],
      "text/plain": [
       "           DATE   TIME    BOROUGH ZIP CODE   LATITUDE  LONGITUDE  \\\n",
       "173  03/24/2017  16:00   BROOKLYN  11230.0  40.627155  -73.96563   \n",
       "174  03/24/2017  16:00  MANHATTAN  10036.0  40.755318  -73.98524   \n",
       "175  03/24/2017  16:00     QUEENS  11432.0  40.708138  -73.80303   \n",
       "176  03/24/2017  16:00   BROOKLYN    11214  40.584038  -73.98534   \n",
       "177  03/24/2017  16:00      BRONX    10469  40.856380  -73.83329   \n",
       "\n",
       "                  LOCATION                    ON STREET NAME  \\\n",
       "173  (40.627155,-73.96563)  CONEY ISLAND AVENUE                \n",
       "174  (40.755318,-73.98524)                               NaN   \n",
       "175  (40.708138,-73.80303)  HIGHLAND AVENUE                    \n",
       "176  (40.584038,-73.98534)                               NaN   \n",
       "177   (40.85638,-73.83329)                               NaN   \n",
       "\n",
       "     CROSS STREET NAME                           OFF STREET NAME  \\\n",
       "173           AVENUE I                                       NaN   \n",
       "174                NaN  135       WEST 42 STREET                   \n",
       "175  PARSONS BOULEVARD                                       NaN   \n",
       "176                NaN                                       NaN   \n",
       "177                NaN                                       NaN   \n",
       "\n",
       "     NUMBER OF PERSONS INJURED  NUMBER OF PERSONS KILLED  \\\n",
       "173                          0                         0   \n",
       "174                          0                         0   \n",
       "175                          0                         0   \n",
       "176                          0                         0   \n",
       "177                          0                         0   \n",
       "\n",
       "     NUMBER OF PEDESTRIANS INJURED  NUMBER OF PEDESTRIANS KILLED  \\\n",
       "173                              0                             0   \n",
       "174                              0                             0   \n",
       "175                              0                             0   \n",
       "176                              0                             0   \n",
       "177                              0                             0   \n",
       "\n",
       "     NUMBER OF CYCLIST INJURED  NUMBER OF CYCLIST KILLED  \\\n",
       "173                          0                         0   \n",
       "174                          0                         0   \n",
       "175                          0                         0   \n",
       "176                          0                         0   \n",
       "177                          0                         0   \n",
       "\n",
       "     NUMBER OF MOTORIST INJURED  NUMBER OF MOTORIST KILLED  \\\n",
       "173                           0                          0   \n",
       "174                           0                          0   \n",
       "175                           0                          0   \n",
       "176                           0                          0   \n",
       "177                           0                          0   \n",
       "\n",
       "            CONTRIBUTING FACTOR VEHICLE 1   CONTRIBUTING FACTOR VEHICLE 2  \\\n",
       "173  Reaction to Other Uninvolved Vehicle                     Unspecified   \n",
       "174                           Unspecified                     Unspecified   \n",
       "175        Driver Inattention/Distraction  Driver Inattention/Distraction   \n",
       "176        Driver Inattention/Distraction                     Unspecified   \n",
       "177                 Following Too Closely                     Unspecified   \n",
       "\n",
       "    CONTRIBUTING FACTOR VEHICLE 3 CONTRIBUTING FACTOR VEHICLE 4  \\\n",
       "173                           NaN                           NaN   \n",
       "174                           NaN                           NaN   \n",
       "175                           NaN                           NaN   \n",
       "176                           NaN                           NaN   \n",
       "177                           NaN                           NaN   \n",
       "\n",
       "    CONTRIBUTING FACTOR VEHICLE 5  UNIQUE KEY            VEHICLE TYPE CODE 1  \\\n",
       "173                           NaN     3638672  SPORT UTILITY / STATION WAGON   \n",
       "174                           NaN     3639122                           TAXI   \n",
       "175                           NaN     3638246  SPORT UTILITY / STATION WAGON   \n",
       "176                           NaN     3638747                  PICK-UP TRUCK   \n",
       "177                           NaN     3639106                  PICK-UP TRUCK   \n",
       "\n",
       "               VEHICLE TYPE CODE 2 VEHICLE TYPE CODE 3 VEHICLE TYPE CODE 4  \\\n",
       "173              PASSENGER VEHICLE                 NaN                 NaN   \n",
       "174              PASSENGER VEHICLE                 NaN                 NaN   \n",
       "175  SPORT UTILITY / STATION WAGON                 NaN                 NaN   \n",
       "176  SPORT UTILITY / STATION WAGON                 NaN                 NaN   \n",
       "177                            NaN                 NaN                 NaN   \n",
       "\n",
       "    VEHICLE TYPE CODE 5   Counts  Collision Rate    LAT   LONG  \n",
       "173                 NaN  10609.0        0.361544  40.63 -73.97  \n",
       "174                 NaN  10373.0        0.052824  40.76 -73.99  \n",
       "175                 NaN   7674.0        0.071403  40.71 -73.80  \n",
       "176                 NaN  14431.0        0.037970  40.58 -73.99  \n",
       "177                 NaN    411.0        2.666400  40.86 -73.83  "
      ]
     },
     "execution_count": 139,
     "metadata": {},
     "output_type": "execute_result"
    }
   ],
   "source": [
    "rush_hour.head()"
   ]
  },
  {
   "cell_type": "code",
   "execution_count": null,
   "metadata": {
    "collapsed": true
   },
   "outputs": [],
   "source": [
    "norm_hour = df[df['TIME'] <= '16:00']\n",
    "norm_hour = norm_hour[rush_hour['TIME'] >= '19:00']"
   ]
  },
  {
   "cell_type": "code",
   "execution_count": 140,
   "metadata": {
    "collapsed": true
   },
   "outputs": [],
   "source": [
    "manhattan = rush_hour[rush_hour['BOROUGH'] == 'MANHATTAN']\n",
    "manhattan = manhattan.drop_duplicates(subset='LOCATION')\n",
    "num_of_coll = len(manhattan)\n",
    "tot_traffic = manhattan['Counts'].sum()\n",
    "time = 365*5"
   ]
  },
  {
   "cell_type": "code",
   "execution_count": 141,
   "metadata": {
    "collapsed": false
   },
   "outputs": [
    {
     "name": "stdout",
     "output_type": "stream",
     "text": [
      "3.7902425609456396e-08\n"
     ]
    }
   ],
   "source": [
    "prob_manhattan = len(manhattan)/(tot_traffic*time)\n",
    "print(prob_manhattan)"
   ]
  },
  {
   "cell_type": "code",
   "execution_count": 142,
   "metadata": {
    "collapsed": true
   },
   "outputs": [],
   "source": [
    "brooklyn = rush_hour[rush_hour['BOROUGH'] == 'BROOKLYN']\n",
    "brooklyn = brooklyn.drop_duplicates(subset='LOCATION')\n",
    "num_of_coll = len(brooklyn)\n",
    "tot_traffic = brooklyn['Counts'].sum()\n",
    "time = 365*5"
   ]
  },
  {
   "cell_type": "code",
   "execution_count": 143,
   "metadata": {
    "collapsed": false
   },
   "outputs": [
    {
     "name": "stdout",
     "output_type": "stream",
     "text": [
      "4.259563538814495e-08\n"
     ]
    }
   ],
   "source": [
    "prob_brooklyn = len(brooklyn)/(tot_traffic*time)\n",
    "print(prob_brooklyn)"
   ]
  },
  {
   "cell_type": "code",
   "execution_count": 144,
   "metadata": {
    "collapsed": true
   },
   "outputs": [],
   "source": [
    "bronx = rush_hour[rush_hour['BOROUGH'] == 'BRONX']\n",
    "bronx = bronx.drop_duplicates(subset='LOCATION')\n",
    "num_of_coll = len(bronx)\n",
    "tot_traffic = bronx['Counts'].sum()\n",
    "time = 365*5"
   ]
  },
  {
   "cell_type": "code",
   "execution_count": 145,
   "metadata": {
    "collapsed": false
   },
   "outputs": [
    {
     "name": "stdout",
     "output_type": "stream",
     "text": [
      "4.60902818934893e-08\n"
     ]
    }
   ],
   "source": [
    "prob_bronx = len(bronx)/(tot_traffic*time)\n",
    "print(prob_bronx)"
   ]
  },
  {
   "cell_type": "code",
   "execution_count": 146,
   "metadata": {
    "collapsed": true
   },
   "outputs": [],
   "source": [
    "queens = rush_hour[rush_hour['BOROUGH'] == 'QUEENS']\n",
    "queens = queens.drop_duplicates(subset='LOCATION')\n",
    "num_of_coll = len(queens)\n",
    "tot_traffic = queens['Counts'].sum()\n",
    "time = 365*5"
   ]
  },
  {
   "cell_type": "code",
   "execution_count": 147,
   "metadata": {
    "collapsed": false
   },
   "outputs": [
    {
     "name": "stdout",
     "output_type": "stream",
     "text": [
      "4.0832441368093595e-08\n"
     ]
    }
   ],
   "source": [
    "prob_queens = len(queens)/(tot_traffic*time)\n",
    "print(prob_queens)"
   ]
  },
  {
   "cell_type": "code",
   "execution_count": 148,
   "metadata": {
    "collapsed": true
   },
   "outputs": [],
   "source": [
    "staten_island = rush_hour[rush_hour['BOROUGH'] == 'STATEN ISLAND']\n",
    "staten_island = staten_island.drop_duplicates(subset='LOCATION')\n",
    "num_of_coll = len(staten_island)\n",
    "tot_traffic = staten_island['Counts'].sum()\n",
    "time = 365*5"
   ]
  },
  {
   "cell_type": "code",
   "execution_count": 149,
   "metadata": {
    "collapsed": false
   },
   "outputs": [
    {
     "name": "stdout",
     "output_type": "stream",
     "text": [
      "4.975444880979757e-08\n"
     ]
    }
   ],
   "source": [
    "prob_staten_island = len(staten_island)/(tot_traffic*time)\n",
    "print(prob_staten_island)"
   ]
  },
  {
   "cell_type": "code",
   "execution_count": 150,
   "metadata": {
    "collapsed": true
   },
   "outputs": [],
   "source": [
    "probs = [prob_manhattan,prob_brooklyn,prob_bronx,prob_queens,prob_staten_island]"
   ]
  },
  {
   "cell_type": "code",
   "execution_count": 151,
   "metadata": {
    "collapsed": false
   },
   "outputs": [],
   "source": [
    "prob_factor = 1/sum(probs)"
   ]
  },
  {
   "cell_type": "code",
   "execution_count": 152,
   "metadata": {
    "collapsed": false
   },
   "outputs": [],
   "source": [
    "probs = [x*prob_factor for x in probs]"
   ]
  },
  {
   "cell_type": "code",
   "execution_count": 153,
   "metadata": {
    "collapsed": true
   },
   "outputs": [],
   "source": [
    "ticks = ['Manhattan','Brooklyn','Bronx','Queens','Staten Island']"
   ]
  },
  {
   "cell_type": "code",
   "execution_count": 154,
   "metadata": {
    "collapsed": false
   },
   "outputs": [
    {
     "data": {
      "image/png": "[encoded data removed]",
      "text/plain": [
       "<matplotlib.figure.Figure at 0x10d121128>"
      ]
     },
     "metadata": {},
     "output_type": "display_data"
    }
   ],
   "source": [
    "plt.bar(range(len(probs)), probs, align='center')\n",
    "plt.xticks(range(len(probs)), ticks, size='large', rotation='vertical')\n",
    "plt.title('Probability of Collision by Borough During Rush Hour', size=20)\n",
    "plt.xlabel('Borough', size=15)\n",
    "plt.ylabel('Probability of Collision', size=15)\n",
    "plt.show()"
   ]
  },
  {
   "cell_type": "code",
   "execution_count": null,
   "metadata": {
    "collapsed": true
   },
   "outputs": [],
   "source": []
  }
 ],
 "metadata": {
  "kernelspec": {
   "display_name": "Python 3",
   "language": "python",
   "name": "python3"
  },
  "language_info": {
   "codemirror_mode": {
    "name": "ipython",
    "version": 3
   },
   "file_extension": ".py",
   "mimetype": "text/x-python",
   "name": "python",
   "nbconvert_exporter": "python",
   "pygments_lexer": "ipython3",
   "version": "3.6.0"
  }
 },
 "nbformat": 4,
 "nbformat_minor": 2
}
