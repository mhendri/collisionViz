{
 "cells": [
  {
   "cell_type": "code",
   "execution_count": 1,
   "metadata": {
    "collapsed": true
   },
   "outputs": [],
   "source": [
    "import pandas as pd\n",
    "collisions = pd.read_csv('../collisions_cleaned.csv')"
   ]
  },
  {
   "cell_type": "code",
   "execution_count": 34,
   "metadata": {
    "collapsed": false
   },
   "outputs": [
    {
     "data": {
      "text/plain": [
       "'Driver Inattention/Distraction'"
      ]
     },
     "execution_count": 34,
     "metadata": {},
     "output_type": "execute_result"
    }
   ],
   "source": [
    "bk = collisions[collisions['BOROUGH'] == 'BROOKLYN']['CONTRIBUTING FACTOR VEHICLE 1'].value_counts().to_dict()\n",
    "del bk['Unspecified']\n",
    "max(bk, key=bk.get)"
   ]
  },
  {
   "cell_type": "code",
   "execution_count": 51,
   "metadata": {
    "collapsed": false
   },
   "outputs": [
    {
     "data": {
      "text/plain": [
       "{('BRONX', 'Accelerator Defective'): 51,\n",
       " ('BRONX', 'Aggressive Driving/Road Rage'): 415,\n",
       " ('BRONX', 'Alcohol Involvement'): 953,\n",
       " ('BRONX', 'Animals Action'): 44,\n",
       " ('BRONX', 'Backing Unsafely'): 2828,\n",
       " ('BRONX', 'Brakes Defective'): 329,\n",
       " ('BRONX', 'Cell Phone (hand-held)'): 17,\n",
       " ('BRONX', 'Cell Phone (hands-free)'): 14,\n",
       " ('BRONX', 'Driver Inattention/Distraction'): 12864,\n",
       " ('BRONX', 'Driver Inexperience'): 1305,\n",
       " ('BRONX', 'Driverless/Runaway Vehicle'): 14,\n",
       " ('BRONX', 'Drugs (Illegal)'): 71,\n",
       " ('BRONX', 'Failure to Keep Right'): 180,\n",
       " ('BRONX', 'Failure to Yield Right-of-Way'): 3223,\n",
       " ('BRONX', 'Fatigued/Drowsy'): 3040,\n",
       " ('BRONX', 'Fell Asleep'): 138,\n",
       " ('BRONX', 'Following Too Closely'): 1086,\n",
       " ('BRONX', 'Glare'): 269,\n",
       " ('BRONX', 'Headlights Defective'): 5,\n",
       " ('BRONX', 'Illness'): 193,\n",
       " ('BRONX', 'Lane Marking Improper/Inadequate'): 44,\n",
       " ('BRONX', 'Lost Consciousness'): 1214,\n",
       " ('BRONX', 'Obstruction/Debris'): 181,\n",
       " ('BRONX', 'Other Electronic Device'): 245,\n",
       " ('BRONX', 'Other Lighting Defects'): 4,\n",
       " ('BRONX', 'Other Vehicular'): 3498,\n",
       " ('BRONX', 'Outside Car Distraction'): 1007,\n",
       " ('BRONX', 'Oversized Vehicle'): 469,\n",
       " ('BRONX', 'Passenger Distraction'): 594,\n",
       " ('BRONX', 'Passing or Lane Usage Improper'): 466,\n",
       " ('BRONX', 'Pavement Defective'): 112,\n",
       " ('BRONX', 'Pavement Slippery'): 1341,\n",
       " ('BRONX', 'Pedestrian/Bicyclist/Other Pedestrian Error/Confusion'): 113,\n",
       " ('BRONX', 'Physical Disability'): 748,\n",
       " ('BRONX', 'Prescription Medication'): 1473,\n",
       " ('BRONX', 'Reaction to Other Uninvolved Vehicle'): 349,\n",
       " ('BRONX', 'Shoulders Defective/Improper'): 9,\n",
       " ('BRONX', 'Steering Failure'): 94,\n",
       " ('BRONX', 'Tire Failure/Inadequate'): 97,\n",
       " ('BRONX', 'Tow Hitch Defective'): 8,\n",
       " ('BRONX', 'Traffic Control Device Improper/Non-Working'): 37,\n",
       " ('BRONX', 'Traffic Control Disregarded'): 1304,\n",
       " ('BRONX', 'Turning Improperly'): 1625,\n",
       " ('BRONX', 'Unsafe Lane Changing'): 530,\n",
       " ('BRONX', 'Unsafe Speed'): 328,\n",
       " ('BRONX', 'Unspecified'): 59055,\n",
       " ('BRONX', 'View Obstructed/Limited'): 483,\n",
       " ('BRONX', 'Windshield Inadequate'): 5,\n",
       " ('BROOKLYN', 'Accelerator Defective'): 110,\n",
       " ('BROOKLYN', 'Aggressive Driving/Road Rage'): 742,\n",
       " ('BROOKLYN', 'Alcohol Involvement'): 1799,\n",
       " ('BROOKLYN', 'Animals Action'): 88,\n",
       " ('BROOKLYN', 'Backing Unsafely'): 6738,\n",
       " ('BROOKLYN', 'Brakes Defective'): 609,\n",
       " ('BROOKLYN', 'Cell Phone (hand-held)'): 28,\n",
       " ('BROOKLYN', 'Cell Phone (hands-free)'): 55,\n",
       " ('BROOKLYN', 'Driver Inattention/Distraction'): 25341,\n",
       " ('BROOKLYN', 'Driver Inexperience'): 2579,\n",
       " ('BROOKLYN', 'Driverless/Runaway Vehicle'): 63,\n",
       " ('BROOKLYN', 'Drugs (Illegal)'): 115,\n",
       " ('BROOKLYN', 'Failure to Keep Right'): 442,\n",
       " ('BROOKLYN', 'Failure to Yield Right-of-Way'): 11716,\n",
       " ('BROOKLYN', 'Fatigued/Drowsy'): 10764,\n",
       " ('BROOKLYN', 'Fell Asleep'): 366,\n",
       " ('BROOKLYN', 'Following Too Closely'): 2258,\n",
       " ('BROOKLYN', 'Glare'): 442,\n",
       " ('BROOKLYN', 'Headlights Defective'): 19,\n",
       " ('BROOKLYN', 'Illness'): 482,\n",
       " ('BROOKLYN', 'Lane Marking Improper/Inadequate'): 55,\n",
       " ('BROOKLYN', 'Lost Consciousness'): 5395,\n",
       " ('BROOKLYN', 'Obstruction/Debris'): 405,\n",
       " ('BROOKLYN', 'Other Electronic Device'): 545,\n",
       " ('BROOKLYN', 'Other Lighting Defects'): 23,\n",
       " ('BROOKLYN', 'Other Vehicular'): 4300,\n",
       " ('BROOKLYN', 'Outside Car Distraction'): 2248,\n",
       " ('BROOKLYN', 'Oversized Vehicle'): 1794,\n",
       " ('BROOKLYN', 'Passenger Distraction'): 1279,\n",
       " ('BROOKLYN', 'Passing or Lane Usage Improper'): 1128,\n",
       " ('BROOKLYN', 'Pavement Defective'): 278,\n",
       " ('BROOKLYN', 'Pavement Slippery'): 2246,\n",
       " ('BROOKLYN', 'Pedestrian/Bicyclist/Other Pedestrian Error/Confusion'): 195,\n",
       " ('BROOKLYN', 'Physical Disability'): 2693,\n",
       " ('BROOKLYN', 'Prescription Medication'): 3823,\n",
       " ('BROOKLYN', 'Reaction to Other Uninvolved Vehicle'): 696,\n",
       " ('BROOKLYN', 'Shoulders Defective/Improper'): 3,\n",
       " ('BROOKLYN', 'Steering Failure'): 225,\n",
       " ('BROOKLYN', 'Tire Failure/Inadequate'): 157,\n",
       " ('BROOKLYN', 'Tow Hitch Defective'): 22,\n",
       " ('BROOKLYN', 'Traffic Control Device Improper/Non-Working'): 97,\n",
       " ('BROOKLYN', 'Traffic Control Disregarded'): 3103,\n",
       " ('BROOKLYN', 'Turning Improperly'): 4156,\n",
       " ('BROOKLYN', 'Unsafe Lane Changing'): 738,\n",
       " ('BROOKLYN', 'Unsafe Speed'): 599,\n",
       " ('BROOKLYN', 'Unspecified'): 134581,\n",
       " ('BROOKLYN', 'View Obstructed/Limited'): 986,\n",
       " ('BROOKLYN', 'Windshield Inadequate'): 15,\n",
       " ('MANHATTAN', 'Accelerator Defective'): 69,\n",
       " ('MANHATTAN', 'Aggressive Driving/Road Rage'): 667,\n",
       " ('MANHATTAN', 'Alcohol Involvement'): 1158,\n",
       " ('MANHATTAN', 'Animals Action'): 46,\n",
       " ('MANHATTAN', 'Backing Unsafely'): 5560,\n",
       " ('MANHATTAN', 'Brakes Defective'): 391,\n",
       " ('MANHATTAN', 'Cell Phone (hand-held)'): 24,\n",
       " ('MANHATTAN', 'Cell Phone (hands-free)'): 55,\n",
       " ('MANHATTAN', 'Driver Inattention/Distraction'): 29016,\n",
       " ('MANHATTAN', 'Driver Inexperience'): 2901,\n",
       " ('MANHATTAN', 'Driverless/Runaway Vehicle'): 11,\n",
       " ('MANHATTAN', 'Drugs (Illegal)'): 90,\n",
       " ('MANHATTAN', 'Failure to Keep Right'): 256,\n",
       " ('MANHATTAN', 'Failure to Yield Right-of-Way'): 7558,\n",
       " ('MANHATTAN', 'Fatigued/Drowsy'): 9699,\n",
       " ('MANHATTAN', 'Fell Asleep'): 179,\n",
       " ('MANHATTAN', 'Following Too Closely'): 1729,\n",
       " ('MANHATTAN', 'Glare'): 188,\n",
       " ('MANHATTAN', 'Headlights Defective'): 15,\n",
       " ('MANHATTAN', 'Illness'): 1118,\n",
       " ('MANHATTAN', 'Lane Marking Improper/Inadequate'): 140,\n",
       " ('MANHATTAN', 'Lost Consciousness'): 6479,\n",
       " ('MANHATTAN', 'Obstruction/Debris'): 407,\n",
       " ('MANHATTAN', 'Other Electronic Device'): 661,\n",
       " ('MANHATTAN', 'Other Lighting Defects'): 9,\n",
       " ('MANHATTAN', 'Other Vehicular'): 13705,\n",
       " ('MANHATTAN', 'Outside Car Distraction'): 2122,\n",
       " ('MANHATTAN', 'Oversized Vehicle'): 1522,\n",
       " ('MANHATTAN', 'Passenger Distraction'): 1435,\n",
       " ('MANHATTAN', 'Passing or Lane Usage Improper'): 1068,\n",
       " ('MANHATTAN', 'Pavement Defective'): 188,\n",
       " ('MANHATTAN', 'Pavement Slippery'): 1252,\n",
       " ('MANHATTAN', 'Pedestrian/Bicyclist/Other Pedestrian Error/Confusion'): 188,\n",
       " ('MANHATTAN', 'Physical Disability'): 1502,\n",
       " ('MANHATTAN', 'Prescription Medication'): 4459,\n",
       " ('MANHATTAN', 'Reaction to Other Uninvolved Vehicle'): 619,\n",
       " ('MANHATTAN', 'Shoulders Defective/Improper'): 8,\n",
       " ('MANHATTAN', 'Steering Failure'): 109,\n",
       " ('MANHATTAN', 'Tire Failure/Inadequate'): 111,\n",
       " ('MANHATTAN', 'Tow Hitch Defective'): 18,\n",
       " ('MANHATTAN', 'Traffic Control Device Improper/Non-Working'): 75,\n",
       " ('MANHATTAN', 'Traffic Control Disregarded'): 1797,\n",
       " ('MANHATTAN', 'Turning Improperly'): 8147,\n",
       " ('MANHATTAN', 'Unsafe Lane Changing'): 1209,\n",
       " ('MANHATTAN', 'Unsafe Speed'): 320,\n",
       " ('MANHATTAN', 'Unspecified'): 86129,\n",
       " ('MANHATTAN', 'View Obstructed/Limited'): 642,\n",
       " ('MANHATTAN', 'Windshield Inadequate'): 15,\n",
       " ('QUEENS', 'Accelerator Defective'): 89,\n",
       " ('QUEENS', 'Aggressive Driving/Road Rage'): 605,\n",
       " ('QUEENS', 'Alcohol Involvement'): 2143,\n",
       " ('QUEENS', 'Animals Action'): 110,\n",
       " ('QUEENS', 'Backing Unsafely'): 6886,\n",
       " ('QUEENS', 'Brakes Defective'): 516,\n",
       " ('QUEENS', 'Cell Phone (hand-held)'): 23,\n",
       " ('QUEENS', 'Cell Phone (hands-free)'): 45,\n",
       " ('QUEENS', 'Driver Inattention/Distraction'): 32001,\n",
       " ('QUEENS', 'Driver Inexperience'): 2628,\n",
       " ('QUEENS', 'Driverless/Runaway Vehicle'): 25,\n",
       " ('QUEENS', 'Drugs (Illegal)'): 114,\n",
       " ('QUEENS', 'Failure to Keep Right'): 574,\n",
       " ('QUEENS', 'Failure to Yield Right-of-Way'): 12452,\n",
       " ('QUEENS', 'Fatigued/Drowsy'): 12905,\n",
       " ('QUEENS', 'Fell Asleep'): 393,\n",
       " ('QUEENS', 'Following Too Closely'): 2839,\n",
       " ('QUEENS', 'Glare'): 556,\n",
       " ('QUEENS', 'Headlights Defective'): 13,\n",
       " ('QUEENS', 'Illness'): 290,\n",
       " ('QUEENS', 'Lane Marking Improper/Inadequate'): 67,\n",
       " ('QUEENS', 'Lost Consciousness'): 3534,\n",
       " ('QUEENS', 'Obstruction/Debris'): 402,\n",
       " ('QUEENS', 'Other Electronic Device'): 387,\n",
       " ('QUEENS', 'Other Lighting Defects'): 17,\n",
       " ('QUEENS', 'Other Vehicular'): 3570,\n",
       " ('QUEENS', 'Outside Car Distraction'): 2632,\n",
       " ('QUEENS', 'Oversized Vehicle'): 956,\n",
       " ('QUEENS', 'Passenger Distraction'): 632,\n",
       " ('QUEENS', 'Passing or Lane Usage Improper'): 1134,\n",
       " ('QUEENS', 'Pavement Defective'): 230,\n",
       " ('QUEENS', 'Pavement Slippery'): 2916,\n",
       " ('QUEENS', 'Pedestrian/Bicyclist/Other Pedestrian Error/Confusion'): 83,\n",
       " ('QUEENS', 'Physical Disability'): 2696,\n",
       " ('QUEENS', 'Prescription Medication'): 3215,\n",
       " ('QUEENS', 'Reaction to Other Uninvolved Vehicle'): 742,\n",
       " ('QUEENS', 'Shoulders Defective/Improper'): 12,\n",
       " ('QUEENS', 'Steering Failure'): 234,\n",
       " ('QUEENS', 'Tire Failure/Inadequate'): 278,\n",
       " ('QUEENS', 'Tow Hitch Defective'): 21,\n",
       " ('QUEENS', 'Traffic Control Device Improper/Non-Working'): 112,\n",
       " ('QUEENS', 'Traffic Control Disregarded'): 3295,\n",
       " ('QUEENS', 'Turning Improperly'): 4307,\n",
       " ('QUEENS', 'Unsafe Lane Changing'): 724,\n",
       " ('QUEENS', 'Unsafe Speed'): 714,\n",
       " ('QUEENS', 'Unspecified'): 115109,\n",
       " ('QUEENS', 'View Obstructed/Limited'): 929,\n",
       " ('QUEENS', 'Windshield Inadequate'): 9,\n",
       " ('STATEN ISLAND', 'Accelerator Defective'): 21,\n",
       " ('STATEN ISLAND', 'Aggressive Driving/Road Rage'): 104,\n",
       " ('STATEN ISLAND', 'Alcohol Involvement'): 367,\n",
       " ('STATEN ISLAND', 'Animals Action'): 123,\n",
       " ('STATEN ISLAND', 'Backing Unsafely'): 973,\n",
       " ('STATEN ISLAND', 'Brakes Defective'): 126,\n",
       " ('STATEN ISLAND', 'Cell Phone (hand-held)'): 5,\n",
       " ('STATEN ISLAND', 'Cell Phone (hands-free)'): 6,\n",
       " ('STATEN ISLAND', 'Driver Inattention/Distraction'): 5277,\n",
       " ('STATEN ISLAND', 'Driver Inexperience'): 473,\n",
       " ('STATEN ISLAND', 'Driverless/Runaway Vehicle'): 5,\n",
       " ('STATEN ISLAND', 'Drugs (Illegal)'): 34,\n",
       " ('STATEN ISLAND', 'Failure to Keep Right'): 102,\n",
       " ('STATEN ISLAND', 'Failure to Yield Right-of-Way'): 1448,\n",
       " ('STATEN ISLAND', 'Fatigued/Drowsy'): 1790,\n",
       " ('STATEN ISLAND', 'Fell Asleep'): 47,\n",
       " ('STATEN ISLAND', 'Following Too Closely'): 560,\n",
       " ('STATEN ISLAND', 'Glare'): 167,\n",
       " ('STATEN ISLAND', 'Headlights Defective'): 1,\n",
       " ('STATEN ISLAND', 'Illness'): 48,\n",
       " ('STATEN ISLAND', 'Lane Marking Improper/Inadequate'): 33,\n",
       " ('STATEN ISLAND', 'Lost Consciousness'): 330,\n",
       " ('STATEN ISLAND', 'Obstruction/Debris'): 82,\n",
       " ('STATEN ISLAND', 'Other Electronic Device'): 61,\n",
       " ('STATEN ISLAND', 'Other Lighting Defects'): 4,\n",
       " ('STATEN ISLAND', 'Other Vehicular'): 978,\n",
       " ('STATEN ISLAND', 'Outside Car Distraction'): 399,\n",
       " ('STATEN ISLAND', 'Oversized Vehicle'): 74,\n",
       " ('STATEN ISLAND', 'Passenger Distraction'): 72,\n",
       " ('STATEN ISLAND', 'Passing or Lane Usage Improper'): 136,\n",
       " ('STATEN ISLAND', 'Pavement Defective'): 45,\n",
       " ('STATEN ISLAND', 'Pavement Slippery'): 685,\n",
       " ('STATEN ISLAND',\n",
       "  'Pedestrian/Bicyclist/Other Pedestrian Error/Confusion'): 20,\n",
       " ('STATEN ISLAND', 'Physical Disability'): 281,\n",
       " ('STATEN ISLAND', 'Prescription Medication'): 452,\n",
       " ('STATEN ISLAND', 'Reaction to Other Uninvolved Vehicle'): 136,\n",
       " ('STATEN ISLAND', 'Shoulders Defective/Improper'): 4,\n",
       " ('STATEN ISLAND', 'Steering Failure'): 57,\n",
       " ('STATEN ISLAND', 'Tire Failure/Inadequate'): 46,\n",
       " ('STATEN ISLAND', 'Tow Hitch Defective'): 6,\n",
       " ('STATEN ISLAND', 'Traffic Control Device Improper/Non-Working'): 15,\n",
       " ('STATEN ISLAND', 'Traffic Control Disregarded'): 496,\n",
       " ('STATEN ISLAND', 'Turning Improperly'): 607,\n",
       " ('STATEN ISLAND', 'Unsafe Lane Changing'): 133,\n",
       " ('STATEN ISLAND', 'Unsafe Speed'): 150,\n",
       " ('STATEN ISLAND', 'Unspecified'): 21850,\n",
       " ('STATEN ISLAND', 'View Obstructed/Limited'): 152}"
      ]
     },
     "execution_count": 51,
     "metadata": {},
     "output_type": "execute_result"
    }
   ],
   "source": [
    "mh = collisions.groupby('BOROUGH')['CONTRIBUTING FACTOR VEHICLE 1'].value_counts().to_dict()\n",
    "mh"
   ]
  },
  {
   "cell_type": "code",
   "execution_count": 42,
   "metadata": {
    "collapsed": false
   },
   "outputs": [
    {
     "data": {
      "text/plain": [
       "'Driver Inattention/Distraction'"
      ]
     },
     "execution_count": 42,
     "metadata": {},
     "output_type": "execute_result"
    }
   ],
   "source": [
    "st = collisions[collisions['BOROUGH'] == 'STATEN ISLAND']['CONTRIBUTING FACTOR VEHICLE 1'].value_counts().to_dict()\n",
    "del st['Unspecified']\n",
    "max(st, key=st.get)"
   ]
  },
  {
   "cell_type": "code",
   "execution_count": 46,
   "metadata": {
    "collapsed": false
   },
   "outputs": [
    {
     "data": {
      "text/plain": [
       "'Driver Inattention/Distraction'"
      ]
     },
     "execution_count": 46,
     "metadata": {},
     "output_type": "execute_result"
    }
   ],
   "source": [
    "bx = collisions[collisions['BOROUGH'] == 'BRONX']['CONTRIBUTING FACTOR VEHICLE 1'].value_counts().to_dict()\n",
    "del bx['Unspecified']\n",
    "max(bx, key=bx.get)"
   ]
  }
 ],
 "metadata": {
  "kernelspec": {
   "display_name": "Python 2.7",
   "language": "python",
   "name": "python2"
  },
  "language_info": {
   "codemirror_mode": {
    "name": "ipython",
    "version": 2
   },
   "file_extension": ".py",
   "mimetype": "text/x-python",
   "name": "python",
   "nbconvert_exporter": "python",
   "pygments_lexer": "ipython2",
   "version": "2.7.10"
  }
 },
 "nbformat": 4,
 "nbformat_minor": 2
}
